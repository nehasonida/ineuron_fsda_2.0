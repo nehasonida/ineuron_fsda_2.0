{
 "cells": [
  {
   "cell_type": "markdown",
   "id": "be369cfc",
   "metadata": {},
   "source": [
    "# PYTHON ASSIGNMENT 22"
   ]
  },
  {
   "cell_type": "markdown",
   "id": "3c18b488",
   "metadata": {},
   "source": [
    "1. What is the result of the code, and explain?\n",
    "<BR>\n",
    "X = 'iNeuron'\n",
    "    <BR>\n",
    "def func():\n",
    "        <BR>\n",
    "     print(X)"
   ]
  },
  {
   "cell_type": "code",
   "execution_count": 2,
   "id": "77337045",
   "metadata": {},
   "outputs": [
    {
     "name": "stdout",
     "output_type": "stream",
     "text": [
      "iNeuron\n"
     ]
    }
   ],
   "source": [
    "X = 'iNeuron'\n",
    "def func():\n",
    "    print(X)\n",
    "func()"
   ]
  },
  {
   "cell_type": "markdown",
   "id": "f54128bf",
   "metadata": {},
   "source": [
    "The global variables are accessible in side the functions in python. But we can not access function variable out side \n",
    "function. \n",
    "Since x is golbal variable we are able to print it in side the function"
   ]
  },
  {
   "cell_type": "markdown",
   "id": "2e0b4dcc",
   "metadata": {},
   "source": [
    "2. What is the result of the code, and explain?\n",
    "<BR>\n",
    "X = 'iNeuron'\n",
    "<BR>\n",
    "def func():\n",
    "    <BR>\n",
    "X ='NI'"
   ]
  },
  {
   "cell_type": "code",
   "execution_count": 7,
   "id": "121d11c1",
   "metadata": {},
   "outputs": [
    {
     "name": "stdout",
     "output_type": "stream",
     "text": [
      "iNeuron\n"
     ]
    }
   ],
   "source": [
    "X = 'iNeuron'\n",
    "def func():\n",
    "    X ='NI'\n",
    "func()\n",
    "print(X)"
   ]
  },
  {
   "cell_type": "markdown",
   "id": "b7a173c4",
   "metadata": {},
   "source": [
    "The global variables are access in side the functions in python. But we can not access function variable out side \n",
    "function. \n",
    "Since x is golbal variable we are able to print it out side of the function"
   ]
  },
  {
   "cell_type": "markdown",
   "id": "07b4bce9",
   "metadata": {},
   "source": [
    "3. What does this code print, and why?\n",
    "<br>\n",
    "X = 'iNeuron'\n",
    "<br>\n",
    "def func():\n",
    "<br>\n",
    "X = 'NI'\n",
    "<br>\n",
    "print(X)\n",
    "<br>\n",
    "func()\n",
    "<br>\n",
    "print(X)"
   ]
  },
  {
   "cell_type": "code",
   "execution_count": 14,
   "id": "b173332e",
   "metadata": {},
   "outputs": [
    {
     "name": "stdout",
     "output_type": "stream",
     "text": [
      "NI\n",
      "iNeuron\n"
     ]
    }
   ],
   "source": [
    "X = 'iNeuron'\n",
    "def func():\n",
    "    X = 'NI'\n",
    "    print(X)\n",
    "func()\n",
    "print(X)"
   ]
  },
  {
   "cell_type": "markdown",
   "id": "695ce153",
   "metadata": {},
   "source": [
    "The global variables are access in side the functions in python. But we can not access function variable out side \n",
    "function. X is updated with 'NI' which is local to function and its immutable. its name space is with in the function"
   ]
  },
  {
   "cell_type": "markdown",
   "id": "e993bc37",
   "metadata": {},
   "source": [
    "4. What output does this code produce? Why?\n",
    "<BR>\n",
    "X = 'iNeuron'\n",
    "    <BR>\n",
    "def func():\n",
    "        <BR>\n",
    "global X\n",
    "            <BR>\n",
    "X = 'NI'\n",
    "<BR>\n",
    "func()\n",
    "    <BR>\n",
    "print(X)"
   ]
  },
  {
   "cell_type": "code",
   "execution_count": 15,
   "id": "9e386834",
   "metadata": {},
   "outputs": [
    {
     "name": "stdout",
     "output_type": "stream",
     "text": [
      "NI!\n",
      "NI!\n"
     ]
    }
   ],
   "source": [
    "X = 'iNeuron'\n",
    "def func():\n",
    "    global X\n",
    "    X = 'NI!'\n",
    "    print(X)\n",
    "\n",
    "func()\n",
    "print(X)"
   ]
  },
  {
   "cell_type": "markdown",
   "id": "01003b95",
   "metadata": {},
   "source": [
    "Since the X in side function is made Global, it will be accesible out side of the function too. now X will have new value."
   ]
  },
  {
   "cell_type": "markdown",
   "id": "3889f660",
   "metadata": {},
   "source": [
    "5. What about this code—what’s the output, and why?\n",
    "<BR>\n",
    "X ='iNeuron'\n",
    "<BR>\n",
    "def func():\n",
    "    <BR>\n",
    "    X = 'NI'\n",
    "    <BR>\n",
    "def nested():\n",
    "    <BR>\n",
    "    print(X)\n",
    "    <BR>\n",
    "nested()\n",
    "<BR>\n",
    "func()\n",
    "<BR>\n",
    "X"
   ]
  },
  {
   "cell_type": "code",
   "execution_count": 16,
   "id": "1c347e3e",
   "metadata": {},
   "outputs": [
    {
     "name": "stdout",
     "output_type": "stream",
     "text": [
      "iNeuron\n"
     ]
    },
    {
     "data": {
      "text/plain": [
       "'iNeuron'"
      ]
     },
     "execution_count": 16,
     "metadata": {},
     "output_type": "execute_result"
    }
   ],
   "source": [
    "X = 'iNeuron'\n",
    "def func():\n",
    "    X = 'NI'\n",
    "def nested():\n",
    "    print(X)\n",
    "    \n",
    "nested()\n",
    "func()\n",
    "X"
   ]
  },
  {
   "cell_type": "markdown",
   "id": "f7832109",
   "metadata": {},
   "source": [
    "The nested() function will print 'iNeuron', Then func() does not display anything, and x ='NI' is not accessible out \n",
    "side the function."
   ]
  },
  {
   "cell_type": "markdown",
   "id": "ae87d97b",
   "metadata": {},
   "source": [
    "6. How about this code: what is its output in Python 3, and explain?\n",
    "    <BR>\n",
    "    def func():\n",
    "         <BR>\n",
    "X = 'NI'\n",
    " <BR>\n",
    "def nested():\n",
    "     <BR>\n",
    "nonlocal X\n",
    " <BR>\n",
    "X = 'Spam'\n",
    " <BR>\n",
    "nested()\n",
    " <BR>\n",
    "print(X)\n",
    " <BR>\n",
    "func()"
   ]
  },
  {
   "cell_type": "code",
   "execution_count": 20,
   "id": "81919bbd",
   "metadata": {},
   "outputs": [
    {
     "name": "stdout",
     "output_type": "stream",
     "text": [
      "spam\n"
     ]
    }
   ],
   "source": [
    "def func():\n",
    "    X = 'NI'\n",
    "    def nested():\n",
    "        nonlocal X\n",
    "        X = 'spam'\n",
    "    nested()\n",
    "    print(X)\n",
    "\n",
    "func()"
   ]
  },
  {
   "cell_type": "markdown",
   "id": "463e852d",
   "metadata": {},
   "source": [
    "Nonlocal variables are used in nested functions whose local scope is not defined. \n",
    "This means that the variable can be neither in the local nor the global scope. it print the updated value from nested \n",
    "function"
   ]
  }
 ],
 "metadata": {
  "kernelspec": {
   "display_name": "Python 3 (ipykernel)",
   "language": "python",
   "name": "python3"
  },
  "language_info": {
   "codemirror_mode": {
    "name": "ipython",
    "version": 3
   },
   "file_extension": ".py",
   "mimetype": "text/x-python",
   "name": "python",
   "nbconvert_exporter": "python",
   "pygments_lexer": "ipython3",
   "version": "3.10.9"
  }
 },
 "nbformat": 4,
 "nbformat_minor": 5
}
