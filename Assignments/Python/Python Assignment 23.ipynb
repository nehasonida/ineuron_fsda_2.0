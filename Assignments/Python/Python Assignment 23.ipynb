{
 "cells": [
  {
   "cell_type": "markdown",
   "id": "8c2fd7f8",
   "metadata": {},
   "source": [
    "# Python Assignment 23"
   ]
  },
  {
   "cell_type": "markdown",
   "id": "2c98cd4d",
   "metadata": {},
   "source": [
    "1. What is the result of the code, and why?\n",
    "<BR>\n",
    "def func(a, b=6, c=8):\n",
    "    <BR>\n",
    "print(a, b, c)\n",
    "        <BR>\n",
    "func(1, 2)"
   ]
  },
  {
   "cell_type": "code",
   "execution_count": 3,
   "id": "2d1cf1d1",
   "metadata": {},
   "outputs": [
    {
     "name": "stdout",
     "output_type": "stream",
     "text": [
      "1 2 8\n"
     ]
    }
   ],
   "source": [
    "def func(a, b=6, c=8):\n",
    "    print(a, b, c)\n",
    "func(1, 2)"
   ]
  },
  {
   "cell_type": "markdown",
   "id": "a9b2068f",
   "metadata": {},
   "source": [
    "This funtion is taking a positional argument and 2 keyward argument. When function call m=is made, parameter passed \n",
    "are a=1,b=2. When the function is executed , parameter c=8 will be taken by default as its a keyword argument.\n",
    "solution is = 1,2,8"
   ]
  },
  {
   "cell_type": "markdown",
   "id": "0a67a9df",
   "metadata": {},
   "source": [
    "2. What is the result of this code, and why?\n",
    "<br>\n",
    "def func(a, b, c=5):\n",
    "    <br>\n",
    "print(a, b, c)\n",
    "<br>\n",
    "func(1, c=3, b=2)"
   ]
  },
  {
   "cell_type": "code",
   "execution_count": 5,
   "id": "0adf1d58",
   "metadata": {},
   "outputs": [
    {
     "name": "stdout",
     "output_type": "stream",
     "text": [
      "1 2 3\n"
     ]
    }
   ],
   "source": [
    "def func(a, b, c=5):\n",
    "    print(a, b, c)\n",
    "func(1, c=3, b=2)"
   ]
  },
  {
   "cell_type": "markdown",
   "id": "cc7861a1",
   "metadata": {},
   "source": [
    "When we make function call, order will be positional argument and then keywords arguments. we can pass the keyword arguments in any order we want.\n",
    "Solution is 1,2,3"
   ]
  },
  {
   "cell_type": "markdown",
   "id": "8b8faceb",
   "metadata": {},
   "source": [
    "3. How about this code: what is its result, and why?\n",
    "    <br>\n",
    "def func(a, *pargs):\n",
    "    <br>\n",
    "print(a, pargs)\n",
    "<br>\n",
    "func(1, 2, 3)"
   ]
  },
  {
   "cell_type": "code",
   "execution_count": 7,
   "id": "107426eb",
   "metadata": {},
   "outputs": [
    {
     "name": "stdout",
     "output_type": "stream",
     "text": [
      "1 (2, 3)\n"
     ]
    }
   ],
   "source": [
    "def func(a, *pargs):\n",
    "    print(a, pargs)\n",
    "func(1, 2, 3)"
   ]
  },
  {
   "cell_type": "markdown",
   "id": "f285a3e4",
   "metadata": {},
   "source": [
    "The return type of *args parameter is tuple, where as **kargs will be dictionary\n",
    "solution is = 1,(2,3)"
   ]
  },
  {
   "cell_type": "markdown",
   "id": "c697a48b",
   "metadata": {},
   "source": [
    "4. What does this code print, and why?\n",
    "<br>\n",
    "def func(a, **kargs):\n",
    "    <br>\n",
    "print(a, kargs)\n",
    "<br>\n",
    "func(a=1, c=3, b=2)"
   ]
  },
  {
   "cell_type": "code",
   "execution_count": 9,
   "id": "450fc922",
   "metadata": {},
   "outputs": [
    {
     "name": "stdout",
     "output_type": "stream",
     "text": [
      "1 {'c': 3, 'b': 2}\n"
     ]
    }
   ],
   "source": [
    "def func(a, **kargs):\n",
    "    print(a, kargs)\n",
    "func(a=1, c=3, b=2)"
   ]
  },
  {
   "cell_type": "markdown",
   "id": "d031b0a1",
   "metadata": {},
   "source": [
    "The return type of  **kargs is  dictionary"
   ]
  },
  {
   "cell_type": "markdown",
   "id": "5a9da23e",
   "metadata": {},
   "source": [
    "5. What gets printed by this, and explain?\n",
    "<br>\n",
    "def func(a, b, c=8, d=5): \n",
    "<br>\n",
    "print(a, b, c, d)\n",
    "    <br>\n",
    "func(1, *(5, 6))"
   ]
  },
  {
   "cell_type": "code",
   "execution_count": 10,
   "id": "d77eb48f",
   "metadata": {},
   "outputs": [
    {
     "name": "stdout",
     "output_type": "stream",
     "text": [
      "1 5 6 5\n"
     ]
    }
   ],
   "source": [
    "def func(a, b, c=8, d=5):\n",
    "    print(a, b, c, d)\n",
    "func(1, *(5, 6))"
   ]
  },
  {
   "cell_type": "markdown",
   "id": "b14d7513",
   "metadata": {},
   "source": [
    " '*' is the unpacking operator and are operators that unpack the values from iterable objects in Python. The single \n",
    "    asterisk operator * can be used on any iterable that Python provides, while the double asterisk operator ** can only \n",
    "    be used on dictionaries. In the example the value *(5,6) will be unpacked and will be assigned to b and c and passed \n",
    "    as arguments, d =5 will taken by defaults are keyword arguments."
   ]
  },
  {
   "cell_type": "markdown",
   "id": "a9cb5362",
   "metadata": {},
   "source": [
    "6. what is the result of this, and explain?\n",
    "<br>\n",
    "def func(a, b, c): \n",
    "<br>\n",
    "a = 2; b[0] = 'x'; c['a'] = 'y'\n",
    "    <br>\n",
    "l=1; m=[1]; n={'a':0}\n",
    "<br>\n",
    "func(l, m, n)\n",
    "<br>\n",
    "l, m, n"
   ]
  },
  {
   "cell_type": "code",
   "execution_count": 12,
   "id": "d411a431",
   "metadata": {},
   "outputs": [
    {
     "data": {
      "text/plain": [
       "(1, ['x'], {'a': 'y'})"
      ]
     },
     "execution_count": 12,
     "metadata": {},
     "output_type": "execute_result"
    }
   ],
   "source": [
    "def func(a, b, c): \n",
    "    a = 2; b[0] = 'x'; c['a'] = 'y'\n",
    "    \n",
    "l=1; m=[1]; n={'a':0}\n",
    "func(l, m, n)\n",
    "\n",
    "l, m, n"
   ]
  },
  {
   "cell_type": "markdown",
   "id": "309c3f13",
   "metadata": {},
   "source": [
    "Here in the code, the list and dict are passed as argument, and those are mutable. Here the list l and parametr b point \n",
    "to the same list in the memeory location where as dict n and c point to the same memory location. Any updates to this \n",
    "list will update in the memory location\n",
    "\n",
    "l = 1 , integer values, immutable, m is list, mutable, n is dict, mutable.\n"
   ]
  }
 ],
 "metadata": {
  "kernelspec": {
   "display_name": "Python 3 (ipykernel)",
   "language": "python",
   "name": "python3"
  },
  "language_info": {
   "codemirror_mode": {
    "name": "ipython",
    "version": 3
   },
   "file_extension": ".py",
   "mimetype": "text/x-python",
   "name": "python",
   "nbconvert_exporter": "python",
   "pygments_lexer": "ipython3",
   "version": "3.10.9"
  }
 },
 "nbformat": 4,
 "nbformat_minor": 5
}
